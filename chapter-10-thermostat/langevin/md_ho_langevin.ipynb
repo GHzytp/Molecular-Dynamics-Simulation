{
 "cells": [
  {
   "cell_type": "code",
   "execution_count": 6,
   "metadata": {},
   "outputs": [
    {
     "name": "stderr",
     "output_type": "stream",
     "text": [
      "100%|██████████| 5000000/5000000 [00:28<00:00, 175726.93it/s]\n"
     ]
    }
   ],
   "source": [
    "from tqdm import tqdm\n",
    "import numpy as np\n",
    "import matplotlib.pyplot as plt\n",
    "\n",
    "class langevin:\n",
    "    def __init__(self) -> None:\n",
    "        self.dN = 1.0\n",
    "        self.dt = 0.01\n",
    "        self.dt2 = self.dt * 0.5\n",
    "        self.dt4 = self.dt2 * 0.5\n",
    "        self.kT = 1\n",
    "        self.x = 0\n",
    "        self.v = 1\n",
    "        self.mass = 1.0\n",
    "        self.k_spring = 1\n",
    "        self.f = -self.k_spring * self.x\n",
    "        self.Ek2 = 0.0\n",
    "\n",
    "        self.temperature_coupling = 100\n",
    "        self.c1 = np.exp(-0.5/self.temperature_coupling)\n",
    "        self.c2 = np.sqrt((1 - self.c1**2) * self.kT)\n",
    "        self.c2m = self.c2 * np.sqrt(1/self.mass)\n",
    "\n",
    "    def langevin(self):\n",
    "        self.v = self.c1*self.v + self.c2m*np.random.normal()\n",
    "    \n",
    "    def run(self, nsteps, sample_intervals):\n",
    "        self.length = int(nsteps/sample_intervals)\n",
    "        self.x_list = np.zeros(self.length, dtype=float)\n",
    "        self.v_list = np.zeros(self.length, dtype=float)\n",
    "\n",
    "        for step in tqdm(range(nsteps)):\n",
    "            # half step\n",
    "            self.langevin()\n",
    "            self.v += self.dt2 * (self.f / self.mass)\n",
    "            self.x += self.dt * self.v\n",
    "            # another half step\n",
    "            self.f = -self.k_spring * self.x\n",
    "            self.v += self.dt2 * (self.f / self.mass)\n",
    "            self.langevin()\n",
    "\n",
    "            if step % sample_intervals == 0:\n",
    "                nn = int(step/sample_intervals)\n",
    "                self.x_list[nn] = self.x\n",
    "                self.v_list[nn] = self.v\n",
    "\n",
    "lan = langevin()\n",
    "lan.run(5000000, 10)"
   ]
  },
  {
   "cell_type": "code",
   "execution_count": 7,
   "metadata": {},
   "outputs": [
    {
     "data": {
      "image/png": "[encoded data removed]",
      "text/plain": [
       "<Figure size 792x216 with 3 Axes>"
      ]
     },
     "metadata": {
      "needs_background": "light"
     },
     "output_type": "display_data"
    }
   ],
   "source": [
    "fig, axs = plt.subplots(1, 3)\n",
    "axs[0].hist2d(lan.x_list, lan.v_list, bins=21, range=[[-4, 4], [-4, 4]],\n",
    "              cmap=\"Blues\")\n",
    "axs[0].set_xlim(-4, 4)\n",
    "axs[0].set_ylim(-4, 4)\n",
    "axs[0].set_xlabel(\"x\")\n",
    "axs[0].set_ylabel(\"p\")\n",
    "axs[0].set_xticks([-4, -2, 0, 2, 4])\n",
    "axs[0].set_yticks([-4, -2, 0, 2, 4])\n",
    "axs[0].set_aspect(1)\n",
    "\n",
    "position = np.linspace(-4, 4, 500)\n",
    "boltz_factor = np.exp(-0.5/lan.kT*lan.k_spring*position**2)\n",
    "Z = np.trapz(boltz_factor, position)\n",
    "boltz_factor /= Z\n",
    "axs[1].plot(position, boltz_factor, color=\"k\", linestyle=\"--\")\n",
    "axs[2].plot(position, boltz_factor, color=\"k\", linestyle=\"--\")\n",
    "\n",
    "axs[1].hist(lan.x_list, density=True, bins=21, alpha=0.8)\n",
    "axs[1].set_xlim(-4, 4)\n",
    "axs[1].set_ylim(0, 0.5)\n",
    "axs[1].set_box_aspect(1)\n",
    "axs[1].set_xlabel(\"x\")\n",
    "axs[1].set_ylabel(\"probability\")\n",
    "axs[1].set_xticks([-4, -2, 0, 2, 4])\n",
    "\n",
    "axs[2].hist(lan.v_list, density=True, bins=21, alpha=0.8)\n",
    "axs[2].set_xlim(-4, 4)\n",
    "axs[2].set_ylim(0, 0.5) \n",
    "axs[2].set_box_aspect(1)\n",
    "axs[2].set_xlabel(\"p\")\n",
    "axs[2].set_ylabel(\"probability\")\n",
    "axs[2].set_xticks([-4, -2, 0, 2, 4])\n",
    "\n",
    "fig.set_size_inches(11, 3)\n",
    "plt.savefig(\"md_lan_nh.pdf\", bbox_inches=\"tight\")\n",
    "plt.show()"
   ]
  }
 ],
 "metadata": {
  "kernelspec": {
   "display_name": "ovito",
   "language": "python",
   "name": "python3"
  },
  "language_info": {
   "codemirror_mode": {
    "name": "ipython",
    "version": 3
   },
   "file_extension": ".py",
   "mimetype": "text/x-python",
   "name": "python",
   "nbconvert_exporter": "python",
   "pygments_lexer": "ipython3",
   "version": "3.9.9"
  }
 },
 "nbformat": 4,
 "nbformat_minor": 2
}
